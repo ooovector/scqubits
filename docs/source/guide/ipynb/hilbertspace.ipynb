{
 "cells": [
  {
   "cell_type": "code",
   "execution_count": 1,
   "metadata": {
    "ExecuteTime": {
     "end_time": "2016-09-05T09:09:54.232690",
     "start_time": "2016-09-05T09:09:53.862693"
    },
    "init_cell": true,
    "pycharm": {
     "is_executing": false
    },
    "scrolled": true
   },
   "outputs": [],
   "source": [
    "%matplotlib inline\n",
    "%config InlineBackend.figure_format = 'svg'\n",
    "\n",
    "import scqubits as scq\n",
    "import scqubits.utils.sweep_plotting as splot\n",
    "from scqubits import HilbertSpace, InteractionTerm, ParameterSweep\n",
    "\n",
    "import numpy as np"
   ]
  },
  {
   "cell_type": "markdown",
   "metadata": {},
   "source": [
    "# Composite Hilbert Spaces, QuTiP Interface"
   ]
  },
  {
   "cell_type": "markdown",
   "metadata": {},
   "source": [
    "The `HilbertSpace` class provides data structures and methods for handling composite Hilbert spaces which may consist of multiple qubits or qubits and oscillators coupled to each other. To harness the power of QuTiP, a toolbox for studying stationary and dynamical properties of closed and open quantum systems (and much more), `HilbertSpace` provides a convenient interface: it generates `qutip.qobj` objects which are then directly handled by QuTiP."
   ]
  },
  {
   "cell_type": "markdown",
   "metadata": {},
   "source": [
    "## Example: two transmons coupled to a harmonic mode\n",
    "\n",
    "Transmon qubits can be capacitively coupled to a common harmonic mode, realized by an LC oscillator or a transmission-line resonator. The Hamiltonian describing such a composite system is given by:\n",
    "\\begin{equation}\n",
    "H=H_\\text{tmon,1} + H_\\text{tmon,2} + \\omega_r a^\\dagger a + \\sum_{j=1,2}g_j n_j(a+a^\\dagger),\n",
    "\\end{equation}\n",
    "where $j=1,2$ enumerates the two transmon qubits, $\\omega_r$ is the (angular) frequency of the resonator. Furthermore, $n_j$ is the charge number operator for qubit $j$, and $g_j$ is the coupling strength between qubit $j$ and the resonator.\n",
    "\n",
    "### Create Hilbert space components\n",
    "\n",
    "The first step consists of creating the objects describing the individual building blocks of the full Hilbert space. Here, these will be the two transmons and one oscillator:"
   ]
  },
  {
   "cell_type": "code",
   "execution_count": 2,
   "metadata": {
    "ExecuteTime": {
     "end_time": "2016-08-23T15:16:24.535943",
     "start_time": "2016-08-23T15:16:24.523929"
    },
    "pycharm": {
     "is_executing": false
    }
   },
   "outputs": [],
   "source": [
    "tmon1 = scq.Transmon(\n",
    "    EJ=40.0,\n",
    "    EC=0.2,\n",
    "    ng=0.3,\n",
    "    ncut=40,\n",
    "    truncated_dim=4     # after diagonalization, we will keep 3 levels\n",
    ")\n",
    "\n",
    "tmon2 = scq.Transmon(\n",
    "    EJ=15.0,\n",
    "    EC=0.15,\n",
    "    ng=0.0,\n",
    "    ncut=30,\n",
    "    truncated_dim=4\n",
    ")\n",
    "\n",
    "resonator = scq.Oscillator(\n",
    "    E_osc=4.5,\n",
    "    truncated_dim=4  # up to 3 photons (0,1,2,3)\n",
    ")"
   ]
  },
  {
   "cell_type": "markdown",
   "metadata": {},
   "source": [
    "The system objects are next grouped into a Python list, and in this form used for the initialization of a `HilbertSpace` object. Once created, a print call to this object outputs a summary of the composite Hilbert space."
   ]
  },
  {
   "cell_type": "code",
   "execution_count": 3,
   "metadata": {
    "ExecuteTime": {
     "end_time": "2016-08-23T15:16:25.169276",
     "start_time": "2016-08-23T15:16:25.141240"
    },
    "pycharm": {
     "is_executing": false
    }
   },
   "outputs": [
    {
     "name": "stdout",
     "output_type": "stream",
     "text": [
      "====== HilbertSpace object ======\n",
      "\n",
      "TRANSMON\n",
      " ———— PARAMETERS ————\n",
      "EJ\t: 40.0\n",
      "EC\t: 0.2\n",
      "ng\t: 0.3\n",
      "ncut\t: 40\n",
      "truncated_dim\t: 4\n",
      "Hilbert space dimension\t: 81\n",
      "\n",
      "TRANSMON\n",
      " ———— PARAMETERS ————\n",
      "EJ\t: 15.0\n",
      "EC\t: 0.15\n",
      "ng\t: 0.0\n",
      "ncut\t: 30\n",
      "truncated_dim\t: 4\n",
      "Hilbert space dimension\t: 61\n",
      "\n",
      "OSCILLATOR\n",
      " ———— PARAMETERS ————\n",
      "E_osc\t: 4.5\n",
      "truncated_dim\t: 4\n",
      "Hilbert space dimension\t: 4\n",
      "\n"
     ]
    }
   ],
   "source": [
    "hilbertspace = scq.HilbertSpace([tmon1, tmon2, resonator])\n",
    "print(hilbertspace)"
   ]
  },
  {
   "cell_type": "markdown",
   "metadata": {},
   "source": [
    "One useful method of the `HilbertSpace` class is `.bare_hamiltonian()`. This yields the bare Hamiltonian of the non-interacting subsystems, expressed as a `qutip.Qobj`:"
   ]
  },
  {
   "cell_type": "code",
   "execution_count": 4,
   "metadata": {},
   "outputs": [
    {
     "data": {
      "text/latex": [
       "Quantum object: dims = [[4, 4, 4], [4, 4, 4]], shape = (64, 64), type = oper, isherm = True\\begin{equation*}\\left(\\begin{array}{*{11}c}-48.968 & 0.0 & 0.0 & 0.0 & 0.0 & \\cdots & 0.0 & 0.0 & 0.0 & 0.0 & 0.0\\\\0.0 & -44.468 & 0.0 & 0.0 & 0.0 & \\cdots & 0.0 & 0.0 & 0.0 & 0.0 & 0.0\\\\0.0 & 0.0 & -39.968 & 0.0 & 0.0 & \\cdots & 0.0 & 0.0 & 0.0 & 0.0 & 0.0\\\\0.0 & 0.0 & 0.0 & -35.468 & 0.0 & \\cdots & 0.0 & 0.0 & 0.0 & 0.0 & 0.0\\\\0.0 & 0.0 & 0.0 & 0.0 & -44.881 & \\cdots & 0.0 & 0.0 & 0.0 & 0.0 & 0.0\\\\\\vdots & \\vdots & \\vdots & \\vdots & \\vdots & \\ddots & \\vdots & \\vdots & \\vdots & \\vdots & \\vdots\\\\0.0 & 0.0 & 0.0 & 0.0 & 0.0 & \\cdots & -4.723 & 0.0 & 0.0 & 0.0 & 0.0\\\\0.0 & 0.0 & 0.0 & 0.0 & 0.0 & \\cdots & 0.0 & -14.477 & 0.0 & 0.0 & 0.0\\\\0.0 & 0.0 & 0.0 & 0.0 & 0.0 & \\cdots & 0.0 & 0.0 & -9.977 & 0.0 & 0.0\\\\0.0 & 0.0 & 0.0 & 0.0 & 0.0 & \\cdots & 0.0 & 0.0 & 0.0 & -5.477 & 0.0\\\\0.0 & 0.0 & 0.0 & 0.0 & 0.0 & \\cdots & 0.0 & 0.0 & 0.0 & 0.0 & -0.977\\\\\\end{array}\\right)\\end{equation*}"
      ],
      "text/plain": [
       "Quantum object: dims = [[4, 4, 4], [4, 4, 4]], shape = (64, 64), type = oper, isherm = True\n",
       "Qobj data =\n",
       "[[-48.96753061   0.           0.         ...   0.           0.\n",
       "    0.        ]\n",
       " [  0.         -44.46753061   0.         ...   0.           0.\n",
       "    0.        ]\n",
       " [  0.           0.         -39.96753061 ...   0.           0.\n",
       "    0.        ]\n",
       " ...\n",
       " [  0.           0.           0.         ...  -9.97661845   0.\n",
       "    0.        ]\n",
       " [  0.           0.           0.         ...   0.          -5.47661845\n",
       "    0.        ]\n",
       " [  0.           0.           0.         ...   0.           0.\n",
       "   -0.97661845]]"
      ]
     },
     "execution_count": 4,
     "metadata": {},
     "output_type": "execute_result"
    }
   ],
   "source": [
    "bare_hamiltonian = hilbertspace.bare_hamiltonian()\n",
    "bare_hamiltonian"
   ]
  },
  {
   "cell_type": "markdown",
   "metadata": {},
   "source": [
    "### Set up the interaction between subsystems"
   ]
  },
  {
   "cell_type": "markdown",
   "metadata": {},
   "source": [
    "The pairwise interactions between subsystems are assumed to have the general form \n",
    "\n",
    "$V=\\sum_{i\\not= j} g_{ij} A_i B_j$, \n",
    "\n",
    "where $g_{ij}$ parametrizes the interaction strength between subsystems $i$ and $j$. The operator content of the coupling is given by the two coupling operators $A_i$, $B_j$, which are operators in the two respective subsystems.\n",
    "This structure is captured by setting up an `InteractionTerm` object:"
   ]
  },
  {
   "cell_type": "code",
   "execution_count": 5,
   "metadata": {
    "pycharm": {
     "is_executing": false
    }
   },
   "outputs": [],
   "source": [
    "g1 = 0.1  # coupling resonator-CPB1 (without charge matrix elements)\n",
    "g2 = 0.2  # coupling resonator-CPB2 (without charge matrix elements)\n",
    "\n",
    "interaction1 = InteractionTerm(\n",
    "    hilbertspace = hilbertspace,\n",
    "    g_strength = g1,\n",
    "    op1 = tmon1.n_operator(),\n",
    "    subsys1 = tmon1,\n",
    "    op2 = resonator.creation_operator() + resonator.annihilation_operator(),\n",
    "    subsys2 =resonator\n",
    ")\n",
    "\n",
    "interaction2 = InteractionTerm(\n",
    "    hilbertspace = hilbertspace,\n",
    "    g_strength = g2,\n",
    "    op1 = tmon2.n_operator(),\n",
    "    subsys1 = tmon2,\n",
    "    op2 = resonator.creation_operator() + resonator.annihilation_operator(),\n",
    "    subsys2 = resonator\n",
    ")"
   ]
  },
  {
   "cell_type": "markdown",
   "metadata": {},
   "source": [
    "Each `InteractionTerm` object is initialized by specifying\n",
    "1. the Hilbert space object to which it will belong\n",
    "2. the interaction strength coefficient $g_{ij}$\n",
    "3. `op1`, `op2`: the subsystem operators $A_i$, $B_j$ (these should be operators within the subsystems' respective Hilbert spaces only)\n",
    "4. `subsys1`: the subsystem objects to which `op1` and `op2` belong\n",
    "\n",
    "Note: interaction Hamiltonians of the alternative form $V=g_{ij}A_i B_j^\\dagger + g_{ij}^* A_i^\\dagger B_J$ (a typical form when performing rotating-wave approximation) can be specified by setting `op1` to $A_i$ and `op2` to $B_j^\\dagger$, and providing the additional keyword parameter `add_hc = True`.\n",
    "\n",
    "Now, collect all interaction terms in a list, and insert into the HilbertSpace object."
   ]
  },
  {
   "cell_type": "code",
   "execution_count": 6,
   "metadata": {
    "pycharm": {
     "is_executing": false
    }
   },
   "outputs": [],
   "source": [
    "interaction_list = [interaction1, interaction2]\n",
    "hilbertspace.interaction_list = interaction_list"
   ]
  },
  {
   "cell_type": "markdown",
   "metadata": {},
   "source": [
    "With the interactions specified, the full Hamiltonian of the coupled system can be obtained via the method `.hamiltonian()`. Again, this conveniently results in a `qubit.Qobj` operator:"
   ]
  },
  {
   "cell_type": "code",
   "execution_count": 7,
   "metadata": {
    "ExecuteTime": {
     "end_time": "2016-08-23T15:16:26.919100",
     "start_time": "2016-08-23T15:16:26.907082"
    },
    "pycharm": {
     "is_executing": false
    }
   },
   "outputs": [
    {
     "data": {
      "text/latex": [
       "Quantum object: dims = [[4, 4, 4], [4, 4, 4]], shape = (64, 64), type = oper, isherm = True\\begin{equation*}\\left(\\begin{array}{*{11}c}-48.968 & 0.030 & 0.0 & 0.0 & 0.0 & \\cdots & 0.0 & 0.0 & 0.0 & 0.0 & 0.0\\\\0.030 & -44.468 & 0.042 & 0.0 & 0.261 & \\cdots & 0.0 & 0.0 & 0.0 & 0.0 & 0.0\\\\0.0 & 0.042 & -39.968 & 0.052 & 0.0 & \\cdots & 0.0 & 0.0 & 0.0 & 0.0 & 0.0\\\\0.0 & 0.0 & 0.052 & -35.468 & 0.0 & \\cdots & 0.0 & 0.0 & 0.0 & 0.0 & 0.0\\\\0.0 & 0.261 & 0.0 & 0.0 & -44.881 & \\cdots & 0.0 & 0.0 & 0.0 & 0.0 & 0.0\\\\\\vdots & \\vdots & \\vdots & \\vdots & \\vdots & \\ddots & \\vdots & \\vdots & \\vdots & \\vdots & \\vdots\\\\0.0 & 0.0 & 0.0 & 0.0 & 0.0 & \\cdots & -4.723 & 0.0 & 0.0 & -0.749 & 0.0\\\\0.0 & 0.0 & 0.0 & 0.0 & 0.0 & \\cdots & 0.0 & -14.477 & 0.030 & 0.0 & 0.0\\\\0.0 & 0.0 & 0.0 & 0.0 & 0.0 & \\cdots & 0.0 & 0.030 & -9.977 & 0.042 & 0.0\\\\0.0 & 0.0 & 0.0 & 0.0 & 0.0 & \\cdots & -0.749 & 0.0 & 0.042 & -5.477 & 0.052\\\\0.0 & 0.0 & 0.0 & 0.0 & 0.0 & \\cdots & 0.0 & 0.0 & 0.0 & 0.052 & -0.977\\\\\\end{array}\\right)\\end{equation*}"
      ],
      "text/plain": [
       "Quantum object: dims = [[4, 4, 4], [4, 4, 4]], shape = (64, 64), type = oper, isherm = True\n",
       "Qobj data =\n",
       "[[-4.89675306e+01  3.00000000e-02  0.00000000e+00 ...  0.00000000e+00\n",
       "   0.00000000e+00  0.00000000e+00]\n",
       " [ 3.00000000e-02 -4.44675306e+01  4.24264069e-02 ...  0.00000000e+00\n",
       "   0.00000000e+00  0.00000000e+00]\n",
       " [ 0.00000000e+00  4.24264069e-02 -3.99675306e+01 ...  0.00000000e+00\n",
       "   0.00000000e+00  0.00000000e+00]\n",
       " ...\n",
       " [ 0.00000000e+00  0.00000000e+00  0.00000000e+00 ... -9.97661845e+00\n",
       "   4.24264070e-02  0.00000000e+00]\n",
       " [ 0.00000000e+00  0.00000000e+00  0.00000000e+00 ...  4.24264070e-02\n",
       "  -5.47661845e+00  5.19615243e-02]\n",
       " [ 0.00000000e+00  0.00000000e+00  0.00000000e+00 ...  0.00000000e+00\n",
       "   5.19615243e-02 -9.76618450e-01]]"
      ]
     },
     "execution_count": 7,
     "metadata": {},
     "output_type": "execute_result"
    }
   ],
   "source": [
    "dressed_hamiltonian = hilbertspace.hamiltonian()\n",
    "dressed_hamiltonian"
   ]
  },
  {
   "cell_type": "markdown",
   "metadata": {},
   "source": [
    "### Obtaining the eigenspectrum via QuTiP\n",
    "\n",
    "Since the Hamiltonian obtained this way is a proper `qutip.qobj`, all QuTiP routines are now available. In the first case, we are still making use of the scqubit `HilbertSpace.eigensys()` method. In the second, case, we use QuTiP's method `.eigenenergies()`:"
   ]
  },
  {
   "cell_type": "code",
   "execution_count": 11,
   "metadata": {
    "ExecuteTime": {
     "end_time": "2016-08-23T15:16:27.983649",
     "start_time": "2016-08-23T15:16:27.864493"
    },
    "pycharm": {
     "is_executing": false
    }
   },
   "outputs": [
    {
     "name": "stdout",
     "output_type": "stream",
     "text": [
      "[-48.97770317 -45.02707241 -44.36656205 -41.18438832]\n"
     ]
    }
   ],
   "source": [
    "evals, evecs = hilbertspace.eigensys(evals_count=4)\n",
    "print(evals)"
   ]
  },
  {
   "cell_type": "code",
   "execution_count": 17,
   "metadata": {},
   "outputs": [
    {
     "data": {
      "text/plain": [
       "array([-48.97770317, -45.02707241, -44.36656205, -41.18438832,\n",
       "       -41.1776098 , -40.46448065, -39.76202396, -37.45533167,\n",
       "       -37.22705488, -36.65156212, -36.56694139, -35.88617024,\n",
       "       -35.14255357, -33.58960343, -33.38439485, -33.12061816,\n",
       "       -32.66494366, -32.04065582, -31.96284558, -30.93536847,\n",
       "       -29.65538466, -29.63912664, -28.97946785, -28.85287223,\n",
       "       -28.64748897, -28.09427075, -27.35745603, -26.97461415,\n",
       "       -26.21586637, -25.79648462, -25.3216198 , -25.07747135,\n",
       "       -24.37567532, -24.24760531, -23.66618527, -23.15199748,\n",
       "       -22.2580349 , -22.06752989, -21.57303944, -21.26626732,\n",
       "       -20.85288717, -20.51511596, -19.78521899, -19.1938092 ,\n",
       "       -18.41228666, -17.73463904, -17.66080329, -16.93618597,\n",
       "       -16.66699841, -15.89010361, -15.58181323, -14.68288545,\n",
       "       -13.84725844, -13.27037775, -13.08388811, -12.34366698,\n",
       "       -11.62655644, -10.308913  ,  -9.23168892,  -8.32791939,\n",
       "        -8.13883089,  -5.82301882,  -4.18180351,  -0.88957289])"
      ]
     },
     "execution_count": 17,
     "metadata": {},
     "output_type": "execute_result"
    }
   ],
   "source": [
    "dressed_hamiltonian = hilbertspace.hamiltonian()\n",
    "dressed_hamiltonian.eigenenergies()"
   ]
  }
 ],
 "metadata": {
  "celltoolbar": "Edit Metadata",
  "kernelspec": {
   "display_name": "Python 3",
   "language": "python",
   "name": "python3"
  },
  "language_info": {
   "codemirror_mode": {
    "name": "ipython",
    "version": 3
   },
   "file_extension": ".py",
   "mimetype": "text/x-python",
   "name": "python",
   "nbconvert_exporter": "python",
   "pygments_lexer": "ipython3",
   "version": "3.7.7"
  },
  "toc": {
   "toc_cell": false,
   "toc_number_sections": true,
   "toc_threshold": 6,
   "toc_window_display": false
  },
  "varInspector": {
   "cols": {
    "lenName": 16,
    "lenType": 16,
    "lenVar": 40
   },
   "kernels_config": {
    "python": {
     "delete_cmd_postfix": "",
     "delete_cmd_prefix": "del ",
     "library": "var_list.py",
     "varRefreshCmd": "print(var_dic_list())"
    },
    "r": {
     "delete_cmd_postfix": ") ",
     "delete_cmd_prefix": "rm(",
     "library": "var_list.r",
     "varRefreshCmd": "cat(var_dic_list()) "
    }
   },
   "types_to_exclude": [
    "module",
    "function",
    "builtin_function_or_method",
    "instance",
    "_Feature"
   ],
   "window_display": false
  }
 },
 "nbformat": 4,
 "nbformat_minor": 2
}
